{
 "nbformat": 4,
 "nbformat_minor": 0,
 "metadata": {
  "colab": {
   "provenance": []
  },
  "kernelspec": {
   "name": "python3",
   "display_name": "Python 3 (ipykernel)",
   "language": "python"
  },
  "language_info": {
   "name": "python"
  }
 },
 "cells": [
  {
   "cell_type": "markdown",
   "source": [
    "### NOTEBOOK ML Model Training and Tuning\n",
    "\n",
    "## Objective\n",
    "\n",
    "The goal of this ticket is to build a machine learning model capable of predicting the rank or rarity classification of monsters. This prediction is based on key attributes, including level, health, energy, and sanity.\n",
    "\n",
    "**TASK:**\n",
    "How can we leverage a machine learning approach to automate the classification of monsters, enabling users to gain meaningful insights into their ranks and characteristics?"
   ],
   "metadata": {
    "id": "kN8-UzE2A_XT"
   }
  },
  {
   "metadata": {},
   "cell_type": "markdown",
   "source": [
    "### Deliverables\n",
    "- Notebook exploration\n",
    "- Machine Learning interface class\n",
    "- Model serialization (save and open)\n",
    "- API model integration"
   ]
  },
  {
   "metadata": {},
   "cell_type": "markdown",
   "source": [
    "### Tech Stack And Constraints\n",
    "**Programming Language:** Python 3.9.6\n",
    " ####\n",
    "   -  **Machine Learning:** Scikit-learn, imbalanced-learn (SMOTE, RandomUnderSampler)\n",
    "   - **Data Manipulation:** pandas, numpy\n",
    "   - **Model Serialization:** joblib\n",
    "   - **Web Framework:** Flask\n",
    "   - **Database:** MongoDB (via `pymongo`)\n",
    "   - **Visualization:** matplotlib\n",
    "   - **Additional Tools:** dotenv for managing environment variables securely.\n",
    "   - **Jupyter Notebook** for experimentation, feature exploration, and model training/tuning."
   ]
  },
  {
   "cell_type": "markdown",
   "source": [
    "### Dataset Summary\n",
    "\n",
    "The dataset used for the monster rarity classification task originates from a MongoDB collection containing randomly generated monsters created via the MonsterLab library. During data preprocessing, columns such as `_id`, `name`, and `damage` were removed as they were not deemed relevant to the machine learning model.\n",
    "\n",
    "The processed dataset includes the key features `level`, `health`, `energy`, `sanity`, and the target variable `rarity`. It contains 1,000 entries, with rarity labels ranging from `Rank 0` to `Rank 5`, providing sufficient variety for model training and validation.\n"
   ],
   "metadata": {
    "id": "uUHgyfy2yFTn"
   }
  },
  {
   "cell_type": "code",
   "source": [
    "import os\n",
    "import sys\n",
    "import warnings\n"
   ],
   "metadata": {
    "colab": {
     "base_uri": "https://localhost:8080/"
    },
    "id": "GM5jWWM2w8tb",
    "outputId": "bd7cc36d-597e-45ce-b77b-bce2a1a9d640",
    "ExecuteTime": {
     "end_time": "2025-01-30T02:39:35.566062Z",
     "start_time": "2025-01-30T02:39:35.515346Z"
    }
   },
   "outputs": [],
   "execution_count": 157
  },
  {
   "metadata": {
    "ExecuteTime": {
     "end_time": "2025-01-30T02:39:35.993480Z",
     "start_time": "2025-01-30T02:39:35.985853Z"
    }
   },
   "cell_type": "code",
   "source": [
    "# Suppress warnings\n",
    "warnings.filterwarnings(\"ignore\")  # Ignore warnings\n",
    "warnings.simplefilter(\"ignore\")\n",
    "sys.stderr = open(os.devnull, 'w')"
   ],
   "outputs": [],
   "execution_count": 158
  },
  {
   "cell_type": "code",
   "source": [
    "# Install necessary packages (if running in Colab or similar environments)\n",
    "!python -m pip install pymongo\n",
    "!pip install category_encoders"
   ],
   "metadata": {
    "colab": {
     "base_uri": "https://localhost:8080/"
    },
    "id": "P5YqERne_tNv",
    "outputId": "78be9092-f642-4a1a-a97d-51d43d878a75",
    "ExecuteTime": {
     "end_time": "2025-01-30T02:39:38.178747Z",
     "start_time": "2025-01-30T02:39:36.256458Z"
    }
   },
   "outputs": [
    {
     "name": "stdout",
     "output_type": "stream",
     "text": [
      "Requirement already satisfied: pymongo in /Users/markanglin/PycharmProjects/BandersnatchStarter/.venv/lib/python3.9/site-packages (4.10.1)\r\n",
      "Requirement already satisfied: dnspython<3.0.0,>=1.16.0 in /Users/markanglin/PycharmProjects/BandersnatchStarter/.venv/lib/python3.9/site-packages (from pymongo) (2.7.0)\r\n",
      "Requirement already satisfied: category_encoders in /Users/markanglin/PycharmProjects/BandersnatchStarter/.venv/lib/python3.9/site-packages (2.6.4)\r\n",
      "Requirement already satisfied: numpy>=1.14.0 in /Users/markanglin/PycharmProjects/BandersnatchStarter/.venv/lib/python3.9/site-packages (from category_encoders) (2.0.2)\r\n",
      "Requirement already satisfied: scikit-learn>=0.20.0 in /Users/markanglin/PycharmProjects/BandersnatchStarter/.venv/lib/python3.9/site-packages (from category_encoders) (1.6.1)\r\n",
      "Requirement already satisfied: scipy>=1.0.0 in /Users/markanglin/PycharmProjects/BandersnatchStarter/.venv/lib/python3.9/site-packages (from category_encoders) (1.13.1)\r\n",
      "Requirement already satisfied: statsmodels>=0.9.0 in /Users/markanglin/PycharmProjects/BandersnatchStarter/.venv/lib/python3.9/site-packages (from category_encoders) (0.14.4)\r\n",
      "Requirement already satisfied: pandas>=1.0.5 in /Users/markanglin/PycharmProjects/BandersnatchStarter/.venv/lib/python3.9/site-packages (from category_encoders) (2.2.3)\r\n",
      "Requirement already satisfied: patsy>=0.5.1 in /Users/markanglin/PycharmProjects/BandersnatchStarter/.venv/lib/python3.9/site-packages (from category_encoders) (1.0.1)\r\n",
      "Requirement already satisfied: python-dateutil>=2.8.2 in /Users/markanglin/PycharmProjects/BandersnatchStarter/.venv/lib/python3.9/site-packages (from pandas>=1.0.5->category_encoders) (2.9.0.post0)\r\n",
      "Requirement already satisfied: pytz>=2020.1 in /Users/markanglin/PycharmProjects/BandersnatchStarter/.venv/lib/python3.9/site-packages (from pandas>=1.0.5->category_encoders) (2024.2)\r\n",
      "Requirement already satisfied: tzdata>=2022.7 in /Users/markanglin/PycharmProjects/BandersnatchStarter/.venv/lib/python3.9/site-packages (from pandas>=1.0.5->category_encoders) (2024.2)\r\n",
      "Requirement already satisfied: joblib>=1.2.0 in /Users/markanglin/PycharmProjects/BandersnatchStarter/.venv/lib/python3.9/site-packages (from scikit-learn>=0.20.0->category_encoders) (1.4.2)\r\n",
      "Requirement already satisfied: threadpoolctl>=3.1.0 in /Users/markanglin/PycharmProjects/BandersnatchStarter/.venv/lib/python3.9/site-packages (from scikit-learn>=0.20.0->category_encoders) (3.5.0)\r\n",
      "Requirement already satisfied: packaging>=21.3 in /Users/markanglin/PycharmProjects/BandersnatchStarter/.venv/lib/python3.9/site-packages (from statsmodels>=0.9.0->category_encoders) (24.2)\r\n",
      "Requirement already satisfied: six>=1.5 in /Users/markanglin/PycharmProjects/BandersnatchStarter/.venv/lib/python3.9/site-packages (from python-dateutil>=2.8.2->pandas>=1.0.5->category_encoders) (1.17.0)\r\n"
     ]
    }
   ],
   "execution_count": 159
  },
  {
   "cell_type": "code",
   "source": [
    "# Import data manipulation and visualization libraries\n",
    "import pandas as pd\n",
    "import numpy as np\n",
    "import matplotlib.pyplot as plt\n",
    "\n",
    "\n",
    "# Import sklearn and imbalanced-learn utilities\n",
    "from sklearn.compose import ColumnTransformer\n",
    "from sklearn.svm import SVC\n",
    "from sklearn.pipeline import Pipeline\n",
    "from sklearn.preprocessing import StandardScaler, OneHotEncoder\n",
    "from sklearn.metrics import roc_auc_score, classification_report\n",
    "from sklearn.linear_model import LogisticRegression\n",
    "from sklearn.model_selection import StratifiedKFold, cross_val_score, cross_val_predict\n",
    "from sklearn.model_selection import train_test_split, RandomizedSearchCV\n",
    "from sklearn.ensemble import RandomForestClassifier\n",
    "from sklearn.inspection import permutation_importance\n",
    "\n",
    "from imblearn.pipeline import Pipeline\n",
    "from imblearn.over_sampling import SMOTE\n",
    "from imblearn.under_sampling import RandomUnderSampler"
   ],
   "metadata": {
    "id": "HdEFL4jDxMVH",
    "ExecuteTime": {
     "end_time": "2025-01-30T02:39:38.192553Z",
     "start_time": "2025-01-30T02:39:38.187574Z"
    }
   },
   "outputs": [],
   "execution_count": 160
  },
  {
   "cell_type": "markdown",
   "source": [
    "## I. Data Wrangling\n",
    "\n",
    "Custom wrangling function to establish a connection to MongoDB, retrieve the monster data, convert it into a pandas DataFrame, and perform necessary data cleaning steps. This function excludes irrelevant features and ensures the dataset is ready for further analysis."
   ],
   "metadata": {
    "id": "crh4LzB7BZb-"
   }
  },
  {
   "cell_type": "code",
   "source": [
    "from os import getenv\n",
    "from dotenv import load_dotenv\n",
    "from pymongo import MongoClient\n",
    "def wrangle():\n",
    "  \"\"\"\n",
    "  Connects to a MongoDB database to retrieve monster data, processes the raw data,\n",
    "  and returns a cleaned pandas DataFrame suitable for further analysis and machine learning tasks.\n",
    "\n",
    "  Steps:\n",
    "  1. **MongoDB URI Prompt**: Prompts the user to securely enter the MongoDB connection URI\n",
    "     to ensure credentials are not hard-coded, maintaining security best practices.\n",
    "  2. **Database Connection**: Establishes a connection to the MongoDB client and accesses\n",
    "     the target database and collection.\n",
    "  3. **Data Retrieval**: Fetches all documents from the collection and converts them to a\n",
    "     pandas DataFrame to facilitate further processing and analysis.\n",
    "  4. **Irrelevant Column Removal**: Drops the `_id` column as it is specific to MongoDB\n",
    "     and unnecessary for model training or analysis.\n",
    "  5. **Timestamp Conversion**: Ensures `Timestamp` is converted to a pandas datetime object,\n",
    "     enabling time-based operations and consistent formatting for downstream tasks.\n",
    "  6. **High Cardinality Filtering**: Identifies and removes categorical columns with\n",
    "     excessive unique values (above a defined threshold) to prevent model overfitting\n",
    "     and control feature complexity.\n",
    "\n",
    "  Returns:\n",
    "      pd.DataFrame: A cleaned and processed DataFrame ready for machine learning tasks.\n",
    "  \"\"\"\n",
    "\n",
    "  # MongoDB URI Loads from Dot_env to avoid hardcoding sensitive credentials.\n",
    "  load_dotenv()\n",
    "  secret_uri = getenv(\"DB_URL\")\n",
    "\n",
    "  # Establish a connection to the MongoDB client using the provided URI.\n",
    "  client = MongoClient(secret_uri)\n",
    "\n",
    "  # Access the database and collection named 'monsters'.\n",
    "  db = client.Database\n",
    "  monsters = db.monsters\n",
    "\n",
    "  # Fetch all records from the collection and convert them into a pandas DataFrame.\n",
    "  data = list(monsters.find())\n",
    "  df = pd.DataFrame(data)\n",
    "\n",
    "  # Remove MongoDB `_id` column, which is irrelevant for machine learning processes.\n",
    "  df.drop(columns=['_id'], inplace=True)\n",
    "\n",
    "  # Convert `Timestamp` column to datetime for consistent time-based operations.\n",
    "  df['Timestamp'] = pd.to_datetime(df['Timestamp'])\n",
    "\n",
    "  # Define a high cardinality cutoff value (e.g., 100 unique categories) and drop\n",
    "  # categorical columns exceeding this threshold to mitigate overfitting risks.\n",
    "  cutoff = 100\n",
    "  drop_cols = [col for col in df.select_dtypes('object').columns if df[col].nunique() > cutoff]\n",
    "  df.drop(columns=drop_cols, inplace=True)\n",
    "\n",
    "  return df"
   ],
   "metadata": {
    "id": "-07VAWyR0yZO",
    "ExecuteTime": {
     "end_time": "2025-01-30T02:39:38.399088Z",
     "start_time": "2025-01-30T02:39:38.378792Z"
    }
   },
   "outputs": [],
   "execution_count": 161
  },
  {
   "cell_type": "code",
   "source": [
    "# Assign the DataFrame to the variable `df`\n",
    "# to get access to MongoDB database and work with the cleaned data\n",
    "df = wrangle()\n"
   ],
   "metadata": {
    "colab": {
     "base_uri": "https://localhost:8080/"
    },
    "id": "e12ly1PS5VXA",
    "outputId": "380bac97-e247-4ba2-e568-03a4e4066bc6",
    "ExecuteTime": {
     "end_time": "2025-01-30T02:39:39.083578Z",
     "start_time": "2025-01-30T02:39:38.421454Z"
    }
   },
   "outputs": [],
   "execution_count": 162
  },
  {
   "cell_type": "code",
   "source": [
    "# Print a random sample of the dataset\n",
    "df.sample(10)"
   ],
   "metadata": {
    "colab": {
     "base_uri": "https://localhost:8080/",
     "height": 363
    },
    "id": "-eXjrHzg6gL9",
    "outputId": "504192e6-5d89-4c23-c80f-ca7945a72b0c",
    "ExecuteTime": {
     "end_time": "2025-01-30T02:39:39.185429Z",
     "start_time": "2025-01-30T02:39:39.172564Z"
    }
   },
   "outputs": [
    {
     "data": {
      "text/plain": [
       "          Type  Level  Rarity  Health  Energy  Sanity           Timestamp\n",
       "78     Demonic      5  Rank 2   27.01   27.79   28.67 2025-01-26 16:06:43\n",
       "722     Dragon      3  Rank 1   13.92   10.94   10.41 2025-01-26 16:06:43\n",
       "620   Devilkin     13  Rank 1   52.37   51.37   51.03 2025-01-26 16:06:43\n",
       "892     Undead     13  Rank 1   52.79   52.52   51.34 2025-01-26 16:06:43\n",
       "710     Dragon     10  Rank 1   41.80   40.28   39.73 2025-01-26 16:06:43\n",
       "158        Fey     17  Rank 5  201.95  208.58  199.24 2025-01-26 16:06:43\n",
       "68   Elemental      7  Rank 4   66.99   71.35   65.17 2025-01-26 16:06:43\n",
       "740     Undead      4  Rank 1   17.72   14.16   15.77 2025-01-26 16:06:43\n",
       "660  Elemental      2  Rank 3   18.17   19.02   16.36 2025-01-26 16:06:43\n",
       "159    Demonic      2  Rank 1    9.27    6.54    9.73 2025-01-26 16:06:43"
      ],
      "text/html": [
       "<div>\n",
       "<style scoped>\n",
       "    .dataframe tbody tr th:only-of-type {\n",
       "        vertical-align: middle;\n",
       "    }\n",
       "\n",
       "    .dataframe tbody tr th {\n",
       "        vertical-align: top;\n",
       "    }\n",
       "\n",
       "    .dataframe thead th {\n",
       "        text-align: right;\n",
       "    }\n",
       "</style>\n",
       "<table border=\"1\" class=\"dataframe\">\n",
       "  <thead>\n",
       "    <tr style=\"text-align: right;\">\n",
       "      <th></th>\n",
       "      <th>Type</th>\n",
       "      <th>Level</th>\n",
       "      <th>Rarity</th>\n",
       "      <th>Health</th>\n",
       "      <th>Energy</th>\n",
       "      <th>Sanity</th>\n",
       "      <th>Timestamp</th>\n",
       "    </tr>\n",
       "  </thead>\n",
       "  <tbody>\n",
       "    <tr>\n",
       "      <th>78</th>\n",
       "      <td>Demonic</td>\n",
       "      <td>5</td>\n",
       "      <td>Rank 2</td>\n",
       "      <td>27.01</td>\n",
       "      <td>27.79</td>\n",
       "      <td>28.67</td>\n",
       "      <td>2025-01-26 16:06:43</td>\n",
       "    </tr>\n",
       "    <tr>\n",
       "      <th>722</th>\n",
       "      <td>Dragon</td>\n",
       "      <td>3</td>\n",
       "      <td>Rank 1</td>\n",
       "      <td>13.92</td>\n",
       "      <td>10.94</td>\n",
       "      <td>10.41</td>\n",
       "      <td>2025-01-26 16:06:43</td>\n",
       "    </tr>\n",
       "    <tr>\n",
       "      <th>620</th>\n",
       "      <td>Devilkin</td>\n",
       "      <td>13</td>\n",
       "      <td>Rank 1</td>\n",
       "      <td>52.37</td>\n",
       "      <td>51.37</td>\n",
       "      <td>51.03</td>\n",
       "      <td>2025-01-26 16:06:43</td>\n",
       "    </tr>\n",
       "    <tr>\n",
       "      <th>892</th>\n",
       "      <td>Undead</td>\n",
       "      <td>13</td>\n",
       "      <td>Rank 1</td>\n",
       "      <td>52.79</td>\n",
       "      <td>52.52</td>\n",
       "      <td>51.34</td>\n",
       "      <td>2025-01-26 16:06:43</td>\n",
       "    </tr>\n",
       "    <tr>\n",
       "      <th>710</th>\n",
       "      <td>Dragon</td>\n",
       "      <td>10</td>\n",
       "      <td>Rank 1</td>\n",
       "      <td>41.80</td>\n",
       "      <td>40.28</td>\n",
       "      <td>39.73</td>\n",
       "      <td>2025-01-26 16:06:43</td>\n",
       "    </tr>\n",
       "    <tr>\n",
       "      <th>158</th>\n",
       "      <td>Fey</td>\n",
       "      <td>17</td>\n",
       "      <td>Rank 5</td>\n",
       "      <td>201.95</td>\n",
       "      <td>208.58</td>\n",
       "      <td>199.24</td>\n",
       "      <td>2025-01-26 16:06:43</td>\n",
       "    </tr>\n",
       "    <tr>\n",
       "      <th>68</th>\n",
       "      <td>Elemental</td>\n",
       "      <td>7</td>\n",
       "      <td>Rank 4</td>\n",
       "      <td>66.99</td>\n",
       "      <td>71.35</td>\n",
       "      <td>65.17</td>\n",
       "      <td>2025-01-26 16:06:43</td>\n",
       "    </tr>\n",
       "    <tr>\n",
       "      <th>740</th>\n",
       "      <td>Undead</td>\n",
       "      <td>4</td>\n",
       "      <td>Rank 1</td>\n",
       "      <td>17.72</td>\n",
       "      <td>14.16</td>\n",
       "      <td>15.77</td>\n",
       "      <td>2025-01-26 16:06:43</td>\n",
       "    </tr>\n",
       "    <tr>\n",
       "      <th>660</th>\n",
       "      <td>Elemental</td>\n",
       "      <td>2</td>\n",
       "      <td>Rank 3</td>\n",
       "      <td>18.17</td>\n",
       "      <td>19.02</td>\n",
       "      <td>16.36</td>\n",
       "      <td>2025-01-26 16:06:43</td>\n",
       "    </tr>\n",
       "    <tr>\n",
       "      <th>159</th>\n",
       "      <td>Demonic</td>\n",
       "      <td>2</td>\n",
       "      <td>Rank 1</td>\n",
       "      <td>9.27</td>\n",
       "      <td>6.54</td>\n",
       "      <td>9.73</td>\n",
       "      <td>2025-01-26 16:06:43</td>\n",
       "    </tr>\n",
       "  </tbody>\n",
       "</table>\n",
       "</div>"
      ]
     },
     "execution_count": 163,
     "metadata": {},
     "output_type": "execute_result"
    }
   ],
   "execution_count": 163
  },
  {
   "cell_type": "code",
   "source": [
    "# Features with NaN values\n",
    "df.isnull().sum().sum()"
   ],
   "metadata": {
    "colab": {
     "base_uri": "https://localhost:8080/"
    },
    "id": "rzRTWfAOC7fr",
    "outputId": "0bda8acc-a20d-412c-a4d8-045c6b218cd9",
    "ExecuteTime": {
     "end_time": "2025-01-30T02:39:39.427171Z",
     "start_time": "2025-01-30T02:39:39.421793Z"
    }
   },
   "outputs": [
    {
     "data": {
      "text/plain": [
       "np.int64(0)"
      ]
     },
     "execution_count": 164,
     "metadata": {},
     "output_type": "execute_result"
    }
   ],
   "execution_count": 164
  },
  {
   "cell_type": "code",
   "source": [
    "# Verify column names and datatypes\n",
    "df.info()"
   ],
   "metadata": {
    "colab": {
     "base_uri": "https://localhost:8080/"
    },
    "id": "1ItVzoz66_ex",
    "outputId": "87314787-841e-4f13-c645-74a5bd07d161",
    "ExecuteTime": {
     "end_time": "2025-01-30T02:39:39.527081Z",
     "start_time": "2025-01-30T02:39:39.515666Z"
    }
   },
   "outputs": [
    {
     "name": "stdout",
     "output_type": "stream",
     "text": [
      "<class 'pandas.core.frame.DataFrame'>\n",
      "RangeIndex: 1000 entries, 0 to 999\n",
      "Data columns (total 7 columns):\n",
      " #   Column     Non-Null Count  Dtype         \n",
      "---  ------     --------------  -----         \n",
      " 0   Type       1000 non-null   object        \n",
      " 1   Level      1000 non-null   int64         \n",
      " 2   Rarity     1000 non-null   object        \n",
      " 3   Health     1000 non-null   float64       \n",
      " 4   Energy     1000 non-null   float64       \n",
      " 5   Sanity     1000 non-null   float64       \n",
      " 6   Timestamp  1000 non-null   datetime64[ns]\n",
      "dtypes: datetime64[ns](1), float64(3), int64(1), object(2)\n",
      "memory usage: 54.8+ KB\n"
     ]
    }
   ],
   "execution_count": 165
  },
  {
   "cell_type": "code",
   "source": [
    "# Summary statistics\n",
    "df.describe()"
   ],
   "metadata": {
    "colab": {
     "base_uri": "https://localhost:8080/",
     "height": 300
    },
    "id": "6fZeesiyXECR",
    "outputId": "55f307f5-9897-4ee7-9b7f-687c031ef828",
    "ExecuteTime": {
     "end_time": "2025-01-30T02:39:39.677843Z",
     "start_time": "2025-01-30T02:39:39.664272Z"
    }
   },
   "outputs": [
    {
     "data": {
      "text/plain": [
       "             Level       Health       Energy       Sanity  \\\n",
       "count  1000.000000  1000.000000  1000.000000  1000.000000   \n",
       "mean      7.861000    39.238770    39.263190    39.213920   \n",
       "min       1.000000     1.170000     1.120000     1.410000   \n",
       "25%       4.000000    14.627500    14.457500    14.562500   \n",
       "50%       7.000000    28.245000    28.440000    28.445000   \n",
       "75%      11.000000    55.452500    55.272500    55.370000   \n",
       "max      20.000000   217.830000   213.070000   221.040000   \n",
       "std       4.637584    34.139831    34.114724    34.131424   \n",
       "\n",
       "                           Timestamp  \n",
       "count                           1000  \n",
       "mean   2025-01-26 16:06:43.000000256  \n",
       "min              2025-01-26 16:06:43  \n",
       "25%              2025-01-26 16:06:43  \n",
       "50%              2025-01-26 16:06:43  \n",
       "75%              2025-01-26 16:06:43  \n",
       "max              2025-01-26 16:06:43  \n",
       "std                              NaN  "
      ],
      "text/html": [
       "<div>\n",
       "<style scoped>\n",
       "    .dataframe tbody tr th:only-of-type {\n",
       "        vertical-align: middle;\n",
       "    }\n",
       "\n",
       "    .dataframe tbody tr th {\n",
       "        vertical-align: top;\n",
       "    }\n",
       "\n",
       "    .dataframe thead th {\n",
       "        text-align: right;\n",
       "    }\n",
       "</style>\n",
       "<table border=\"1\" class=\"dataframe\">\n",
       "  <thead>\n",
       "    <tr style=\"text-align: right;\">\n",
       "      <th></th>\n",
       "      <th>Level</th>\n",
       "      <th>Health</th>\n",
       "      <th>Energy</th>\n",
       "      <th>Sanity</th>\n",
       "      <th>Timestamp</th>\n",
       "    </tr>\n",
       "  </thead>\n",
       "  <tbody>\n",
       "    <tr>\n",
       "      <th>count</th>\n",
       "      <td>1000.000000</td>\n",
       "      <td>1000.000000</td>\n",
       "      <td>1000.000000</td>\n",
       "      <td>1000.000000</td>\n",
       "      <td>1000</td>\n",
       "    </tr>\n",
       "    <tr>\n",
       "      <th>mean</th>\n",
       "      <td>7.861000</td>\n",
       "      <td>39.238770</td>\n",
       "      <td>39.263190</td>\n",
       "      <td>39.213920</td>\n",
       "      <td>2025-01-26 16:06:43.000000256</td>\n",
       "    </tr>\n",
       "    <tr>\n",
       "      <th>min</th>\n",
       "      <td>1.000000</td>\n",
       "      <td>1.170000</td>\n",
       "      <td>1.120000</td>\n",
       "      <td>1.410000</td>\n",
       "      <td>2025-01-26 16:06:43</td>\n",
       "    </tr>\n",
       "    <tr>\n",
       "      <th>25%</th>\n",
       "      <td>4.000000</td>\n",
       "      <td>14.627500</td>\n",
       "      <td>14.457500</td>\n",
       "      <td>14.562500</td>\n",
       "      <td>2025-01-26 16:06:43</td>\n",
       "    </tr>\n",
       "    <tr>\n",
       "      <th>50%</th>\n",
       "      <td>7.000000</td>\n",
       "      <td>28.245000</td>\n",
       "      <td>28.440000</td>\n",
       "      <td>28.445000</td>\n",
       "      <td>2025-01-26 16:06:43</td>\n",
       "    </tr>\n",
       "    <tr>\n",
       "      <th>75%</th>\n",
       "      <td>11.000000</td>\n",
       "      <td>55.452500</td>\n",
       "      <td>55.272500</td>\n",
       "      <td>55.370000</td>\n",
       "      <td>2025-01-26 16:06:43</td>\n",
       "    </tr>\n",
       "    <tr>\n",
       "      <th>max</th>\n",
       "      <td>20.000000</td>\n",
       "      <td>217.830000</td>\n",
       "      <td>213.070000</td>\n",
       "      <td>221.040000</td>\n",
       "      <td>2025-01-26 16:06:43</td>\n",
       "    </tr>\n",
       "    <tr>\n",
       "      <th>std</th>\n",
       "      <td>4.637584</td>\n",
       "      <td>34.139831</td>\n",
       "      <td>34.114724</td>\n",
       "      <td>34.131424</td>\n",
       "      <td>NaN</td>\n",
       "    </tr>\n",
       "  </tbody>\n",
       "</table>\n",
       "</div>"
      ]
     },
     "execution_count": 166,
     "metadata": {},
     "output_type": "execute_result"
    }
   ],
   "execution_count": 166
  },
  {
   "metadata": {},
   "cell_type": "markdown",
   "source": [
    "### Timestamp Column Explanation\n",
    "Although the `Timestamp` column contains a constant value and holds little significance for analysis or visualization, it serves as essential metadata displayed in the `/model` tab of the app. Its retention in the DataFrame ensures compatibility and potential utility in future applications\n"
   ]
  },
  {
   "cell_type": "code",
   "source": [
    "# Retrieve all the unique values from the `Timestamp` column\n",
    "df.Timestamp.nunique()"
   ],
   "metadata": {
    "colab": {
     "base_uri": "https://localhost:8080/"
    },
    "id": "1Axn9CzDGjz8",
    "outputId": "fc3f6c15-465d-4c9e-dba7-89e81c8dd447",
    "ExecuteTime": {
     "end_time": "2025-01-30T02:39:39.820580Z",
     "start_time": "2025-01-30T02:39:39.815834Z"
    }
   },
   "outputs": [
    {
     "data": {
      "text/plain": [
       "1"
      ]
     },
     "execution_count": 167,
     "metadata": {},
     "output_type": "execute_result"
    }
   ],
   "execution_count": 167
  },
  {
   "cell_type": "markdown",
   "source": [
    "# II. Data Splitting\n",
    "\n",
    "The dataset is divided into training and testing sets to facilitate model training and evaluation."
   ],
   "metadata": {
    "id": "mWzKJugxFdq2"
   }
  },
  {
   "cell_type": "code",
   "source": [
    "# Split the data into features (X) and target (y), then further split into training and test sets\n",
    "target = 'Rarity'\n",
    "\n",
    "# Separate the target variable (Rarity) and the feature matrix\n",
    "y = df[target]  # Target vector containing the labels\n",
    "X = df.drop(columns=target)  # Feature matrix containing all other attributes\n",
    "\n",
    "# Perform a random split of data into training and test sets (80% training, 20% testing)\n",
    "X_train, X_test, y_train, y_test = train_test_split(X, y, test_size=0.2, random_state=42)"
   ],
   "metadata": {
    "id": "6_iBz15-6jWh",
    "ExecuteTime": {
     "end_time": "2025-01-30T02:39:39.886038Z",
     "start_time": "2025-01-30T02:39:39.876165Z"
    }
   },
   "outputs": [],
   "execution_count": 168
  },
  {
   "metadata": {},
   "cell_type": "markdown",
   "source": [
    "# III. Baseline Calculation\n",
    "\n",
    "Identify the most frequent class in the `Rarity` column of the training set and calculate the baseline accuracy score to serve as a reference point for model performance."
   ]
  },
  {
   "cell_type": "code",
   "source": [
    "# Check the distribution of the target column `Rarity`\n",
    "y_train.value_counts(normalize=True).plot(kind='bar', color=['#1f78b4', '#b2df8a', '#a6cee3', '#33a02c', '#fb9a99', '#e31a1c'])\n",
    "plt.xlabel('Rarity - Target Class')\n",
    "plt.ylabel('Percentage (%)');"
   ],
   "metadata": {
    "colab": {
     "base_uri": "https://localhost:8080/",
     "height": 484
    },
    "id": "9r9ILpOjvCFN",
    "outputId": "1ff6b7e6-549a-45fd-f82d-0682883f27ab",
    "ExecuteTime": {
     "end_time": "2025-01-30T02:39:40.041749Z",
     "start_time": "2025-01-30T02:39:39.930275Z"
    }
   },
   "outputs": [
    {
     "data": {
      "text/plain": [
       "<Figure size 640x480 with 1 Axes>"
      ],
      "image/png": "[encoded data removed]"
     },
     "metadata": {},
     "output_type": "display_data"
    }
   ],
   "execution_count": 169
  },
  {
   "cell_type": "code",
   "source": [
    "y_train.value_counts().plot(kind='bar', color=['#1f78b4', '#b2df8a', '#a6cee3', '#33a02c', '#fb9a99', '#e31a1c'])\n",
    "plt.xlabel('Rarity - Target Class')\n",
    "plt.ylabel('Counts');"
   ],
   "metadata": {
    "colab": {
     "base_uri": "https://localhost:8080/",
     "height": 484
    },
    "id": "Om-wuc7smYiZ",
    "outputId": "a3d50b7c-6727-4e73-d023-db0691033603",
    "ExecuteTime": {
     "end_time": "2025-01-30T02:39:40.281304Z",
     "start_time": "2025-01-30T02:39:40.225598Z"
    }
   },
   "outputs": [
    {
     "data": {
      "text/plain": [
       "<Figure size 640x480 with 1 Axes>"
      ],
      "image/png": "[encoded data removed]"
     },
     "metadata": {},
     "output_type": "display_data"
    }
   ],
   "execution_count": 170
  },
  {
   "cell_type": "code",
   "source": [
    "baseline = y_train.value_counts(normalize=True).idxmax()\n",
    "print('Baseline Majority Class:', baseline)"
   ],
   "metadata": {
    "colab": {
     "base_uri": "https://localhost:8080/"
    },
    "id": "mHGcoAH-OA7z",
    "outputId": "c8f83f15-bf51-4354-ee7c-b0aa204b838e",
    "ExecuteTime": {
     "end_time": "2025-01-30T02:39:40.292668Z",
     "start_time": "2025-01-30T02:39:40.289260Z"
    }
   },
   "outputs": [
    {
     "name": "stdout",
     "output_type": "stream",
     "text": [
      "Baseline Majority Class: Rank 0\n"
     ]
    }
   ],
   "execution_count": 171
  },
  {
   "metadata": {
    "colab": {
     "base_uri": "https://localhost:8080/"
    },
    "id": "xA4PZFyxerZY",
    "outputId": "d7712f94-31dd-460c-ef62-9f04fca99f60",
    "ExecuteTime": {
     "end_time": "2025-01-30T02:39:40.389338Z",
     "start_time": "2025-01-30T02:39:40.386317Z"
    }
   },
   "cell_type": "code",
   "source": [
    "# Calculate the baseline accuracy score\n",
    "baseline_acc = y_train.value_counts(normalize=True).max()\n",
    "print('Baseline Accuracy Score:', baseline_acc)"
   ],
   "outputs": [
    {
     "name": "stdout",
     "output_type": "stream",
     "text": [
      "Baseline Accuracy Score: 0.31\n"
     ]
    }
   ],
   "execution_count": 172
  },
  {
   "cell_type": "markdown",
   "source": [
    "## IV. Model Building and Metrics Evaluation\n",
    "\n",
    "Choose two models for training and tuning:\n",
    "  - Random Forest (RF)\n",
    "  - Logistic Regression (LR)\n",
    "  - Support Vector Machines (SVM)\n",
    "\n",
    "Note: These models can handle both numerical and categorical features in the dataset.\n",
    "\n",
    "Evaluate models using metrics such as accuracy and ROC AUC OVO.\n",
    "\n",
    "Examine both imbalanced and balanced class scenarios to assess the models' performance."
   ],
   "metadata": {
    "id": "pJb-ushuT8Ac"
   }
  },
  {
   "metadata": {},
   "cell_type": "markdown",
   "source": "### Model 1A - Imbalanced Random Forest (RF)"
  },
  {
   "cell_type": "code",
   "source": [
    "# Model 1a - Imbalanced RF\n",
    "# Define the column transformer with different transformers for different column types\n",
    "preprocessor = ColumnTransformer([\n",
    "    ('numeric', StandardScaler(), ['Level', 'Health', 'Energy', 'Sanity']),\n",
    "    ('categorical', OneHotEncoder(), ['Type']),\n",
    "])\n",
    "\n",
    "# Create the pipeline\n",
    "imb_rf_model = Pipeline([\n",
    "    ('preprocessor', preprocessor),\n",
    "    ('classifier', RandomForestClassifier(random_state=42))\n",
    "\n",
    "])\n",
    "\n",
    "# Fit the model\n",
    "imb_rf_model.fit(X_train, y_train)\n",
    "\n",
    "# Evaluate the model using cross-validation\n",
    "cv = StratifiedKFold(n_splits=5, shuffle=True, random_state=42)\n",
    "scores = cross_val_score(imb_rf_model, X_train, y_train, cv=cv, scoring='roc_auc_ovo')\n",
    "print('Cross-Validation Scores:', scores)\n",
    "print('ROC AUC OvO Imbalanced RF:', np.mean(scores))"
   ],
   "metadata": {
    "colab": {
     "base_uri": "https://localhost:8080/"
    },
    "id": "61t4m1Xo2j3r",
    "outputId": "103668d3-5bfd-4d42-8837-3b55b30ddd12",
    "ExecuteTime": {
     "end_time": "2025-01-30T02:39:41.867132Z",
     "start_time": "2025-01-30T02:39:40.557977Z"
    }
   },
   "outputs": [
    {
     "name": "stdout",
     "output_type": "stream",
     "text": [
      "Cross-Validation Scores: [0.96966569 0.95406529 0.93733138 0.90395457 0.93985571]\n",
      "ROC AUC OvO Imbalanced RF: 0.9409745305716551\n"
     ]
    }
   ],
   "execution_count": 173
  },
  {
   "metadata": {},
   "cell_type": "markdown",
   "source": "### MODEL 1B - IMBALANCED LOGISTIC REGRESSION\n"
  },
  {
   "metadata": {
    "ExecuteTime": {
     "end_time": "2025-01-30T02:39:42.467061Z",
     "start_time": "2025-01-30T02:39:42.262312Z"
    }
   },
   "cell_type": "code",
   "source": [
    "\n",
    "# Define and create the Logistic Regression pipeline\n",
    "imb_logreg_model = Pipeline([\n",
    "    ('preprocessor', preprocessor),\n",
    "    ('classifier', LogisticRegression(solver='lbfgs', multi_class='multinomial', max_iter=1000, random_state=42))\n",
    "])\n",
    "\n",
    "# Train the model\n",
    "\n",
    "imb_logreg_model.fit(X_train, y_train)\n",
    "# Classification report\n",
    "imb_logreg_y_pred = cross_val_predict(imb_logreg_model, X_train, y_train, cv=cv)\n",
    "print('Logistic Regression Classification Report:')\n",
    "print(classification_report(y_train, imb_logreg_y_pred, zero_division=0))"
   ],
   "outputs": [
    {
     "name": "stdout",
     "output_type": "stream",
     "text": [
      "Logistic Regression Classification Report:\n",
      "              precision    recall  f1-score   support\n",
      "\n",
      "      Rank 0       0.93      1.00      0.96       248\n",
      "      Rank 1       0.89      0.92      0.90       206\n",
      "      Rank 2       0.79      0.84      0.81       156\n",
      "      Rank 3       0.80      0.61      0.69        97\n",
      "      Rank 4       0.74      0.77      0.75        73\n",
      "      Rank 5       0.67      0.10      0.17        20\n",
      "\n",
      "    accuracy                           0.86       800\n",
      "   macro avg       0.80      0.71      0.72       800\n",
      "weighted avg       0.85      0.86      0.85       800\n",
      "\n"
     ]
    }
   ],
   "execution_count": 174
  },
  {
   "metadata": {
    "ExecuteTime": {
     "end_time": "2025-01-30T02:39:42.862338Z",
     "start_time": "2025-01-30T02:39:42.651385Z"
    }
   },
   "cell_type": "code",
   "source": [
    "# Cross-validation evaluation\n",
    "cv = StratifiedKFold(n_splits=5, shuffle=True, random_state=42)\n",
    "imb_logreg_scores = cross_val_score(imb_logreg_model, X_train, y_train, cv=cv, scoring='roc_auc_ovo')\n",
    "print('Cross-Validation Scores:', imb_logreg_scores)\n",
    "print('Mean ROC AUC OvO Logistic Regression:', imb_logreg_scores.mean())\n"
   ],
   "outputs": [
    {
     "name": "stdout",
     "output_type": "stream",
     "text": [
      "Cross-Validation Scores: [0.95487188 0.93995217 0.93457173 0.93016362 0.94860555]\n",
      "Mean ROC AUC OvO Logistic Regression: 0.9416329910178097\n"
     ]
    }
   ],
   "execution_count": 175
  },
  {
   "metadata": {},
   "cell_type": "markdown",
   "source": "### Model 1C - Imbalanced SVM (ISVM)"
  },
  {
   "metadata": {
    "ExecuteTime": {
     "end_time": "2025-01-30T02:39:43.867393Z",
     "start_time": "2025-01-30T02:39:42.977015Z"
    }
   },
   "cell_type": "code",
   "source": [
    "# Perform cross-validation and obtain predicted labels\n",
    "imb_rf_y_pred = cross_val_predict(imb_rf_model, X_train, y_train, cv=cv)\n",
    "# Imbalanced Random Forest Classification Report\n",
    "print('Imbalanced RF Classification Report:')\n",
    "print(classification_report(y_train, imb_rf_y_pred))\n",
    "# Define the column transformer with different transformers for different column types\n",
    "preprocessor = ColumnTransformer([\n",
    "    ('numeric', StandardScaler(), ['Level', 'Health', 'Energy', 'Sanity']),\n",
    "    ('categorical', OneHotEncoder(), ['Type']),\n",
    "])\n",
    "\n",
    "# Create the pipeline\n",
    "imb_svm_model = Pipeline([\n",
    "    ('preprocessor', preprocessor),\n",
    "    ('classifier', SVC(random_state=42,\n",
    "                       probability=True,\n",
    "                       decision_function_shape='ovo'))\n",
    "])\n",
    "\n",
    "# Fit the model\n",
    "imb_svm_model.fit(X_train, y_train)\n",
    "\n",
    "# Evaluate the model using cross-validation\n",
    "cv = StratifiedKFold(n_splits=5, shuffle=True, random_state=42)\n",
    "imb_svm_scores = cross_val_score(imb_svm_model, X_train, y_train, cv=cv, scoring='roc_auc_ovo')\n",
    "print('Cross-Validation Scores:', imb_svm_scores)\n",
    "print('ROC AUC OvO Imbalanced SVM:', imb_svm_scores.mean())"
   ],
   "outputs": [
    {
     "name": "stdout",
     "output_type": "stream",
     "text": [
      "Imbalanced RF Classification Report:\n",
      "              precision    recall  f1-score   support\n",
      "\n",
      "      Rank 0       0.97      1.00      0.98       248\n",
      "      Rank 1       0.96      0.96      0.96       206\n",
      "      Rank 2       0.83      0.92      0.87       156\n",
      "      Rank 3       0.80      0.73      0.76        97\n",
      "      Rank 4       0.71      0.70      0.70        73\n",
      "      Rank 5       0.33      0.10      0.15        20\n",
      "\n",
      "    accuracy                           0.89       800\n",
      "   macro avg       0.77      0.73      0.74       800\n",
      "weighted avg       0.88      0.89      0.88       800\n",
      "\n",
      "Cross-Validation Scores: [0.95870906 0.95352913 0.95510789 0.96198316 0.95376615]\n",
      "ROC AUC OvO Imbalanced SVM: 0.9566190785886229\n"
     ]
    }
   ],
   "execution_count": 176
  },
  {
   "cell_type": "code",
   "source": [
    "# Imbalanced SVM Classification Report\n",
    "# Perform cross-validation and obtain predicted labels\n",
    "imb_svm_y_pred = cross_val_predict(imb_svm_model, X_train, y_train, cv=cv)\n",
    "print('Imbalanced SVM Classification Report: ')\n",
    "print(classification_report(y_train, imb_svm_y_pred, zero_division=0))"
   ],
   "metadata": {
    "colab": {
     "base_uri": "https://localhost:8080/"
    },
    "id": "UyFvYHk0GIbl",
    "outputId": "1220098a-113f-43ce-f35d-d8e2cc65e3dc",
    "ExecuteTime": {
     "end_time": "2025-01-30T02:39:44.146194Z",
     "start_time": "2025-01-30T02:39:43.878193Z"
    }
   },
   "outputs": [
    {
     "name": "stdout",
     "output_type": "stream",
     "text": [
      "Imbalanced SVM Classification Report: \n",
      "              precision    recall  f1-score   support\n",
      "\n",
      "      Rank 0       0.90      1.00      0.95       248\n",
      "      Rank 1       0.87      0.91      0.89       206\n",
      "      Rank 2       0.81      0.79      0.80       156\n",
      "      Rank 3       0.81      0.72      0.77        97\n",
      "      Rank 4       0.70      0.67      0.69        73\n",
      "      Rank 5       0.00      0.00      0.00        20\n",
      "\n",
      "    accuracy                           0.85       800\n",
      "   macro avg       0.68      0.68      0.68       800\n",
      "weighted avg       0.82      0.85      0.83       800\n",
      "\n"
     ]
    }
   ],
   "execution_count": 177
  },
  {
   "metadata": {},
   "cell_type": "markdown",
   "source": "### Model 2A -  Balanced Random Forest (RF)"
  },
  {
   "cell_type": "code",
   "source": [
    "# Model 1b - Balanced RF\n",
    "numeric_cols = ['Level', 'Health', 'Energy', 'Sanity']\n",
    "categorical_cols = ['Type']\n",
    "\n",
    "# Create the transformers for preprocessing\n",
    "numeric_transformer = StandardScaler()\n",
    "categorical_transformer = OneHotEncoder()\n",
    "\n",
    "# Create the preprocessor using ColumnTransformer\n",
    "preprocessor = ColumnTransformer(\n",
    "    transformers=[\n",
    "        ('numeric', numeric_transformer, numeric_cols),\n",
    "        ('categorical', categorical_transformer, categorical_cols)\n",
    "    ],\n",
    "    remainder='drop'  # Exclude remaining columns from the pipeline\n",
    ")\n",
    "\n",
    "# Create the pipeline with preprocessing, oversampling, undersampling, and model\n",
    "bal_rf_model = Pipeline([\n",
    "    ('preprocessor', preprocessor),\n",
    "    ('oversampling', SMOTE(sampling_strategy='auto', random_state=42)),\n",
    "    ('undersampling', RandomUnderSampler(sampling_strategy='auto', random_state=42)),\n",
    "    ('classifier', RandomForestClassifier(random_state=42))\n",
    "])\n",
    "\n",
    "# Fit the model\n",
    "bal_rf_model.fit(X_train, y_train)\n",
    "\n",
    "# Evaluate the model using cross-validation\n",
    "cv = StratifiedKFold(n_splits=5, shuffle=True, random_state=42)\n",
    "bal_rf_scores = cross_val_score(bal_rf_model, X_train, y_train, cv=cv, scoring='roc_auc_ovo')\n",
    "print('Cross-Validation Scores:', bal_rf_scores)\n",
    "print('ROC AUC OvO Balanced RF:', bal_rf_scores.mean())\n"
   ],
   "metadata": {
    "colab": {
     "base_uri": "https://localhost:8080/"
    },
    "id": "kfM350yr9rsq",
    "outputId": "e3a0c0d8-30f5-427c-f3e4-c62889c7a139",
    "ExecuteTime": {
     "end_time": "2025-01-30T02:39:45.226970Z",
     "start_time": "2025-01-30T02:39:44.223732Z"
    }
   },
   "outputs": [
    {
     "name": "stdout",
     "output_type": "stream",
     "text": [
      "Cross-Validation Scores: [0.97816613 0.94990623 0.95683646 0.94266758 0.95386563]\n",
      "ROC AUC OvO Balanced RF: 0.956288404487189\n"
     ]
    }
   ],
   "execution_count": 178
  },
  {
   "cell_type": "code",
   "source": [
    "# Perform cross-validation and obtain predicted labels\n",
    "bal_rf_y_pred = cross_val_predict(bal_rf_model, X_train, y_train, cv=cv)\n",
    "# Imbalanced Random Forest Classification Report\n",
    "print('Balanced RF Classification Report: ')\n",
    "print(classification_report(y_train, bal_rf_y_pred))"
   ],
   "metadata": {
    "colab": {
     "base_uri": "https://localhost:8080/"
    },
    "id": "Fj4Zkg5QIs-C",
    "outputId": "3519ecd9-4894-4f75-c972-4e643f989d6f",
    "ExecuteTime": {
     "end_time": "2025-01-30T02:39:46.367557Z",
     "start_time": "2025-01-30T02:39:45.398731Z"
    }
   },
   "outputs": [
    {
     "name": "stdout",
     "output_type": "stream",
     "text": [
      "Balanced RF Classification Report: \n",
      "              precision    recall  f1-score   support\n",
      "\n",
      "      Rank 0       0.98      1.00      0.99       248\n",
      "      Rank 1       0.95      0.97      0.96       206\n",
      "      Rank 2       0.88      0.86      0.87       156\n",
      "      Rank 3       0.73      0.76      0.74        97\n",
      "      Rank 4       0.72      0.67      0.70        73\n",
      "      Rank 5       0.53      0.40      0.46        20\n",
      "\n",
      "    accuracy                           0.89       800\n",
      "   macro avg       0.80      0.78      0.78       800\n",
      "weighted avg       0.89      0.89      0.89       800\n",
      "\n"
     ]
    }
   ],
   "execution_count": 179
  },
  {
   "metadata": {},
   "cell_type": "markdown",
   "source": "### MODEL 2B - BALANCE LOGISTIC REGRESSION"
  },
  {
   "metadata": {
    "ExecuteTime": {
     "end_time": "2025-01-30T02:39:46.840498Z",
     "start_time": "2025-01-30T02:39:46.502419Z"
    }
   },
   "cell_type": "code",
   "source": [
    "# Create the balanced Logistic Regression pipeline\n",
    "bal_logreg_model = Pipeline([\n",
    "    ('preprocessor', preprocessor),\n",
    "    ('oversampling', SMOTE(sampling_strategy='auto', random_state=42)),\n",
    "    ('undersampling', RandomUnderSampler(sampling_strategy='auto', random_state=42)),\n",
    "    ('classifier', LogisticRegression(solver='lbfgs', multi_class='multinomial', max_iter=1000, random_state=42))\n",
    "])\n",
    "\n",
    "# Fit the model\n",
    "bal_logreg_model.fit(X_train, y_train)\n",
    "\n",
    "# Cross-validation evaluation\n",
    "cv = StratifiedKFold(n_splits=5, shuffle=True, random_state=42)\n",
    "bal_logreg_scores = cross_val_score(bal_logreg_model, X_train, y_train, cv=cv, scoring='roc_auc_ovo')\n",
    "print('Cross-Validation Scores:', bal_logreg_scores)\n",
    "print('Mean ROC AUC OvO Balanced Logistic Regression:', bal_logreg_scores.mean())\n",
    "\n"
   ],
   "outputs": [
    {
     "name": "stdout",
     "output_type": "stream",
     "text": [
      "Cross-Validation Scores: [0.988496   0.98156873 0.97034706 0.97768465 0.98285411]\n",
      "Mean ROC AUC OvO Balanced Logistic Regression: 0.9801901094124295\n"
     ]
    }
   ],
   "execution_count": 180
  },
  {
   "metadata": {
    "ExecuteTime": {
     "end_time": "2025-01-30T02:39:47.087152Z",
     "start_time": "2025-01-30T02:39:46.847477Z"
    }
   },
   "cell_type": "code",
   "source": [
    "# Perform cross-validation and obtain predicted labels\n",
    "bal_logreg_y_pred = cross_val_predict(bal_logreg_model, X_train, y_train, cv=cv)\n",
    "print('Balanced Logistic Regression Classification Report:')\n",
    "print(classification_report(y_train, bal_logreg_y_pred, zero_division=0))"
   ],
   "outputs": [
    {
     "name": "stdout",
     "output_type": "stream",
     "text": [
      "Balanced Logistic Regression Classification Report:\n",
      "              precision    recall  f1-score   support\n",
      "\n",
      "      Rank 0       0.95      1.00      0.97       248\n",
      "      Rank 1       0.94      0.95      0.94       206\n",
      "      Rank 2       0.94      0.91      0.93       156\n",
      "      Rank 3       0.94      0.80      0.87        97\n",
      "      Rank 4       0.82      0.74      0.78        73\n",
      "      Rank 5       0.52      0.80      0.63        20\n",
      "\n",
      "    accuracy                           0.92       800\n",
      "   macro avg       0.85      0.87      0.85       800\n",
      "weighted avg       0.92      0.92      0.92       800\n",
      "\n"
     ]
    }
   ],
   "execution_count": 181
  },
  {
   "cell_type": "markdown",
   "source": "### Model 2C - Balanced Support Vector Machines (SVM)",
   "metadata": {
    "id": "AK0Cfjk7GJx1"
   }
  },
  {
   "metadata": {
    "ExecuteTime": {
     "end_time": "2025-01-30T02:39:47.940006Z",
     "start_time": "2025-01-30T02:39:47.186370Z"
    }
   },
   "cell_type": "code",
   "source": [
    "bal_svm_model = Pipeline([\n",
    "    ('preprocessor', preprocessor),\n",
    "    ('oversampling', SMOTE(sampling_strategy='auto', random_state=42)),\n",
    "    ('undersampling', RandomUnderSampler(sampling_strategy='auto', random_state=42)),\n",
    "    ('classifier', SVC(C=7, kernel='rbf', gamma=0.1, decision_function_shape='ovo', probability=True, random_state=42))\n",
    "])\n",
    "\n",
    "# Fit the model\n",
    "bal_svm_model.fit(X_train, y_train)\n",
    "\n",
    "# Cross-validation evaluation\n",
    "cv = StratifiedKFold(n_splits=5, shuffle=True, random_state=42)\n",
    "bal_svm_scores = cross_val_score(bal_svm_model, X_train, y_train, cv=cv, scoring='roc_auc_ovo')\n",
    "print('Cross-Validation Scores:', bal_svm_scores)\n",
    "print('Mean ROC AUC OvO Balanced SVM:', bal_svm_scores.mean())"
   ],
   "outputs": [
    {
     "name": "stdout",
     "output_type": "stream",
     "text": [
      "Cross-Validation Scores: [0.99837025 0.99719393 0.99299566 0.99539039 0.99744919]\n",
      "Mean ROC AUC OvO Balanced SVM: 0.9962798842437856\n"
     ]
    }
   ],
   "execution_count": 182
  },
  {
   "cell_type": "code",
   "source": [
    "# Balanced SVM Classification Report\n",
    "# Perform cross-validation and obtain predicted labels\n",
    "bal_svm_y_pred = cross_val_predict(bal_svm_model, X_train, y_train, cv=cv)\n",
    "print('Balanced SVM Classification Report: ')\n",
    "print(classification_report(y_train, bal_svm_y_pred, zero_division=0))"
   ],
   "metadata": {
    "colab": {
     "base_uri": "https://localhost:8080/"
    },
    "id": "TikWnxd1GPdZ",
    "outputId": "ec286c72-693f-4526-c4da-128d6d8bd8a3",
    "ExecuteTime": {
     "end_time": "2025-01-30T02:39:48.834656Z",
     "start_time": "2025-01-30T02:39:48.138933Z"
    }
   },
   "outputs": [
    {
     "name": "stdout",
     "output_type": "stream",
     "text": [
      "Balanced SVM Classification Report: \n",
      "              precision    recall  f1-score   support\n",
      "\n",
      "      Rank 0       0.97      1.00      0.99       248\n",
      "      Rank 1       0.95      0.98      0.96       206\n",
      "      Rank 2       0.95      0.94      0.94       156\n",
      "      Rank 3       0.97      0.89      0.92        97\n",
      "      Rank 4       0.94      0.92      0.93        73\n",
      "      Rank 5       0.85      0.85      0.85        20\n",
      "\n",
      "    accuracy                           0.96       800\n",
      "   macro avg       0.94      0.93      0.93       800\n",
      "weighted avg       0.96      0.96      0.96       800\n",
      "\n"
     ]
    }
   ],
   "execution_count": 183
  },
  {
   "cell_type": "markdown",
   "source": [
    "## V. Hyperparameter Tuning\n",
    "\n",
    "Perform hyperparameter tuning on balanced models using randomized search technique. Explore various hyperparameter combinations and select the set of hyperparameters that maximizes the `roc_auc_ovo` score."
   ],
   "metadata": {
    "id": "3QDZbl6PDeyA"
   }
  },
  {
   "cell_type": "markdown",
   "source": [
    "### Tuning The Random Forest (RF) Model"
   ],
   "metadata": {
    "id": "c2691E7AoZIw"
   }
  },
  {
   "metadata": {
    "jupyter": {
     "is_executing": true
    },
    "ExecuteTime": {
     "start_time": "2025-01-30T02:39:49.252338Z"
    }
   },
   "cell_type": "code",
   "source": [
    "%%time\n",
    "random_search_rf = RandomizedSearchCV(\n",
    "    estimator=bal_rf_model,\n",
    "    param_distributions={\n",
    "        'classifier__n_estimators': range(100, 1001, 100),\n",
    "        'classifier__max_depth': [5, 10, 20, 30, None],\n",
    "        'classifier__min_samples_split': [2, 5, 10],\n",
    "        'classifier__min_samples_leaf': [1, 2, 4],\n",
    "        'classifier__max_features': ['sqrt', 'log2', None],\n",
    "        'classifier__bootstrap': [True, False]\n",
    "    },\n",
    "    scoring='roc_auc_ovo',\n",
    "    n_iter=50,\n",
    "    cv=StratifiedKFold(n_splits=5, random_state=42, shuffle=True),\n",
    "    random_state=42,\n",
    "    n_jobs=-1,\n",
    "    verbose=2\n",
    ")\n",
    "\n",
    "random_search_rf.fit(X_train, y_train)\n",
    "\n",
    "tuned_rf_model = random_search_rf.best_estimator_\n",
    "best_params_rf = random_search_rf.best_params_\n",
    "roc_auc_ovo_score_tuned_rf = random_search_rf.best_score_\n",
    "\n",
    "print(\"Best Parameters:\", best_params_rf)\n",
    "print(\"ROC AUC OvO Score:\", roc_auc_ovo_score_tuned_rf)"
   ],
   "outputs": [
    {
     "name": "stdout",
     "output_type": "stream",
     "text": [
      "Fitting 5 folds for each of 50 candidates, totalling 250 fits\n"
     ]
    }
   ],
   "execution_count": null
  },
  {
   "metadata": {
    "ExecuteTime": {
     "end_time": "2025-01-30T02:38:28.105495Z",
     "start_time": "2025-01-30T02:37:35.243277Z"
    }
   },
   "cell_type": "code",
   "source": [
    "%%time\n",
    "numeric_cols = ['Level', 'Health', 'Energy', 'Sanity']\n",
    "categorical_cols = ['Type']\n",
    "\n",
    "# Create the transformers for preprocessing\n",
    "numeric_transformer = StandardScaler()\n",
    "categorical_transformer = OneHotEncoder()\n",
    "\n",
    "# Create the preprocessor using ColumnTransformer\n",
    "preprocessor = ColumnTransformer(\n",
    "    transformers=[\n",
    "        ('numeric', numeric_transformer, numeric_cols),\n",
    "        ('categorical', categorical_transformer, categorical_cols)\n",
    "    ],\n",
    "    remainder='drop'  # Exclude remaining columns from the pipeline\n",
    ")\n",
    "# noinspection PyRedeclaration\n",
    "tuned_rf_model = Pipeline(steps=[\n",
    "    ('preprocessor', preprocessor),\n",
    "    ('oversampler', SMOTE(random_state=42)),\n",
    "    ('undersampler', RandomUnderSampler(random_state=42)),\n",
    "    ('classifier', RandomForestClassifier(\n",
    "        n_estimators=500,\n",
    "        max_depth=30,\n",
    "        max_features=None,\n",
    "        min_samples_split=5,\n",
    "        min_samples_leaf=1,\n",
    "        bootstrap=True,\n",
    "        random_state=42\n",
    "    ))\n",
    "])\n",
    "\n",
    "tuned_rf_model.fit(X_train, y_train)\n",
    "\n",
    "# Evaluate the model using cross-validation\n",
    "cv = StratifiedKFold(n_splits=5, shuffle=True, random_state=42)\n",
    "tuned_rf_scores = cross_val_score(tuned_rf_model, X_train, y_train, cv=cv, scoring='roc_auc_ovo')\n",
    "print('Cross-Validation Scores:', tuned_rf_scores)\n",
    "print('ROC AUC OvO Tuned RF:', tuned_rf_scores.mean())\n"
   ],
   "outputs": [
    {
     "name": "stdout",
     "output_type": "stream",
     "text": [
      "Cross-Validation Scores: [0.98821357 0.97745067 0.9631226  0.94907773 0.98090631]\n",
      "ROC AUC OvO Tuned RF: 0.9717541766864743\n",
      "CPU times: user 8.19 s, sys: 122 ms, total: 8.31 s\n",
      "Wall time: 8.46 s\n"
     ]
    }
   ],
   "execution_count": 144
  },
  {
   "cell_type": "code",
   "source": [
    "# Measure the improvement of the Random Forest (RF) model after tuning the hyperparameters\n",
    "print('Improvement of {:0.2f}%.'.format( 100 * (tuned_rf_scores.mean() - bal_rf_scores.mean()) /bal_rf_scores.mean()))"
   ],
   "metadata": {
    "colab": {
     "base_uri": "https://localhost:8080/"
    },
    "id": "cQPf1Hd2_6Tb",
    "outputId": "43aa2805-b840-4de4-cc02-d436eba332f7",
    "ExecuteTime": {
     "end_time": "2025-01-30T02:38:28.105592Z",
     "start_time": "2025-01-30T02:37:43.795656Z"
    }
   },
   "outputs": [
    {
     "name": "stdout",
     "output_type": "stream",
     "text": [
      "Improvement of 1.62%.\n"
     ]
    }
   ],
   "execution_count": 145
  },
  {
   "metadata": {
    "colab": {
     "base_uri": "https://localhost:8080/"
    },
    "id": "h-kwfiDdDWAv",
    "outputId": "d094331c-5d72-4fd4-921e-e6394f8a1c75",
    "ExecuteTime": {
     "end_time": "2025-01-30T02:38:28.105715Z",
     "start_time": "2025-01-30T02:37:43.806574Z"
    }
   },
   "cell_type": "code",
   "source": [
    "# Perform cross-validation and obtain predicted labels\n",
    "tuned_rf_y_pred = cross_val_predict(tuned_rf_model, X_train, y_train, cv=cv)\n",
    "print('Tuned RF Classification Report: ')\n",
    "print(classification_report(y_train, tuned_rf_y_pred))"
   ],
   "outputs": [
    {
     "name": "stdout",
     "output_type": "stream",
     "text": [
      "Tuned RF Classification Report: \n",
      "              precision    recall  f1-score   support\n",
      "\n",
      "      Rank 0       0.98      1.00      0.99       248\n",
      "      Rank 1       0.96      0.97      0.97       206\n",
      "      Rank 2       0.95      0.94      0.94       156\n",
      "      Rank 3       0.91      0.89      0.90        97\n",
      "      Rank 4       0.79      0.78      0.79        73\n",
      "      Rank 5       0.53      0.50      0.51        20\n",
      "\n",
      "    accuracy                           0.93       800\n",
      "   macro avg       0.85      0.85      0.85       800\n",
      "weighted avg       0.93      0.93      0.93       800\n",
      "\n"
     ]
    }
   ],
   "execution_count": 146
  },
  {
   "metadata": {},
   "cell_type": "markdown",
   "source": "### Tuning The Logistic Regression Model\n"
  },
  {
   "metadata": {
    "ExecuteTime": {
     "end_time": "2025-01-30T02:38:28.105800Z",
     "start_time": "2025-01-30T02:37:52.659652Z"
    }
   },
   "cell_type": "code",
   "source": [
    "%%time\n",
    "rsearch_bal_logreg = RandomizedSearchCV(\n",
    "    estimator=bal_logreg_model,\n",
    "    param_distributions={\n",
    "        \"classifier__C\": [0.01, 0.1, 1.0, 10.0, 100.0],\n",
    "        \"classifier__penalty\": [\"l1\", \"l2\", \"elasticnet\"],\n",
    "        \"classifier__solver\": [\"saga\"],\n",
    "    },\n",
    "    scoring=\"roc_auc_ovo\",\n",
    "    cv=15,\n",
    "    n_iter=20,\n",
    "    random_state=42,\n",
    "    n_jobs=-1\n",
    ")\n",
    "\n",
    "# Fit RandomizedSearchCV on training data\n",
    "rsearch_bal_logreg.fit(X_train, y_train)\n",
    "\n",
    "# Output the best parameters and score\n",
    "best_params_bal_logreg = rsearch_bal_logreg.best_params_\n",
    "best_score_bal_logreg = rsearch_bal_logreg.best_score_\n",
    "print(\"Best Hyperparameters:\", best_params_bal_logreg)\n",
    "print(\"Best Score:\", best_score_bal_logreg)"
   ],
   "outputs": [
    {
     "name": "stdout",
     "output_type": "stream",
     "text": [
      "Best Hyperparameters: {'classifier__solver': 'saga', 'classifier__penalty': 'l1', 'classifier__C': 1.0}\n",
      "Best Score: 0.9982876382876383\n",
      "CPU times: user 1.28 s, sys: 165 ms, total: 1.44 s\n",
      "Wall time: 15.3 s\n"
     ]
    }
   ],
   "execution_count": 147
  },
  {
   "metadata": {
    "ExecuteTime": {
     "end_time": "2025-01-30T02:38:28.106097Z",
     "start_time": "2025-01-30T02:38:08.290428Z"
    }
   },
   "cell_type": "code",
   "source": [
    "bal_logreg_tuned_model = Pipeline(steps=[\n",
    "    ('preprocessor', preprocessor),\n",
    "    ('classifier', LogisticRegression(\n",
    "        solver='saga',\n",
    "        penalty='l1',\n",
    "        C=1.0,\n",
    "        max_iter=1000,\n",
    "        class_weight='balanced',\n",
    "        random_state=42,\n",
    "        multi_class='multinomial'\n",
    "    ))\n",
    "])\n",
    "\n",
    "bal_logreg_tuned_model.fit(X_train, y_train)\n",
    "\n",
    "# Evaluate tuned balanced logistic regression model\n",
    "tuned_scores = cross_val_score(bal_logreg_tuned_model, X_train, y_train, cv=cv, scoring='roc_auc_ovo')\n",
    "print('Tuned Balanced Logistic Regression ROC AUC OvO:', np.mean(tuned_scores))"
   ],
   "outputs": [
    {
     "name": "stdout",
     "output_type": "stream",
     "text": [
      "Tuned Balanced Logistic Regression ROC AUC OvO: 0.9983755376467329\n"
     ]
    }
   ],
   "execution_count": 148
  },
  {
   "metadata": {
    "ExecuteTime": {
     "end_time": "2025-01-30T02:38:28.106331Z",
     "start_time": "2025-01-30T02:38:10.434294Z"
    }
   },
   "cell_type": "code",
   "source": [
    "# Measure the improvement of the logistic regression model after tuning the hyperparameters\n",
    "print('Improvement of {:0.2f}%.'.format(100 * (tuned_scores.mean() - bal_logreg_scores.mean()) / bal_logreg_scores.mean()))"
   ],
   "outputs": [
    {
     "name": "stdout",
     "output_type": "stream",
     "text": [
      "Improvement of 1.86%.\n"
     ]
    }
   ],
   "execution_count": 149
  },
  {
   "metadata": {
    "ExecuteTime": {
     "end_time": "2025-01-30T02:38:28.106816Z",
     "start_time": "2025-01-30T02:38:10.458404Z"
    }
   },
   "cell_type": "code",
   "source": [
    "# Cross-validation for all Logistic Regression models\n",
    "logreg_models = {\n",
    "    \"Imbalanced Logistic Regression\": imb_logreg_model,\n",
    "    \"Balanced Logistic Regression\": bal_logreg_model,\n",
    "    \"Tuned Balanced Logistic Regression\": bal_logreg_tuned_model\n",
    "}\n",
    "\n",
    "logreg_cv_results = {}\n",
    "\n",
    "for name, model in logreg_models.items():\n",
    "    cv_scores = cross_val_score(model, X_train, y_train, cv=cv, scoring='roc_auc_ovo')\n",
    "    logreg_cv_results[name] = {\"Mean ROC AUC\": cv_scores.mean(), \"Scores\": cv_scores}\n",
    "\n",
    "for name, result in logreg_cv_results.items():\n",
    "    print(f\"{name} - Mean ROC AUC: {result['Mean ROC AUC']:.3f}, Scores: {result['Scores']}\")"
   ],
   "outputs": [
    {
     "name": "stdout",
     "output_type": "stream",
     "text": [
      "Imbalanced Logistic Regression - Mean ROC AUC: 0.942, Scores: [0.95487188 0.93995217 0.93457173 0.93016362 0.94860555]\n",
      "Balanced Logistic Regression - Mean ROC AUC: 0.980, Scores: [0.988496   0.98156873 0.97034706 0.97768465 0.98285411]\n",
      "Tuned Balanced Logistic Regression - Mean ROC AUC: 0.998, Scores: [0.99901528 0.99780607 0.99867949 0.99655596 0.99982088]\n"
     ]
    }
   ],
   "execution_count": 150
  },
  {
   "metadata": {},
   "cell_type": "markdown",
   "source": "### Tuning SVM MODEL\n"
  },
  {
   "cell_type": "code",
   "source": [
    "%%time\n",
    "# Balanced SVM Tuning\n",
    "\n",
    "# Define the parameter distribution\n",
    "param_grid_svm = {\n",
    "    # Penalty for misclassified points in the model\n",
    "    'classifier__C': range(1, 10, 1),\n",
    "    # Shape of the decision boundary\n",
    "    'classifier__kernel': ['rbf', 'poly'], # `rbf` creates a smooth boundary, `poly` creates a more complex one\n",
    "    # Control how much weight each training example has in the model\n",
    "    'classifier__gamma': ['scale', 0.1, 1, 10] # `scale` is automatically calculated\n",
    "}\n",
    "\n",
    "# Create the randomized search object\n",
    "rsearch_svm = RandomizedSearchCV(estimator=bal_svm_model, scoring='roc_auc_ovo', param_distributions=param_grid_svm, n_iter=10, cv=15, random_state=42, n_jobs=-1)\n",
    "\n",
    "# Fit the randomized search to the training data\n",
    "rsearch_svm.fit(X_train, y_train)\n",
    "\n",
    "# Print the best parameters and best score\n",
    "print('Best Hyperparameters:', rsearch_svm.best_params_)\n",
    "print('Best Score:', rsearch_svm.best_score_)\n"
   ],
   "metadata": {
    "colab": {
     "base_uri": "https://localhost:8080/"
    },
    "id": "RCR3DYrzAoKT",
    "outputId": "499fba1a-f9a8-4000-b364-1f5ec4c24bb4",
    "ExecuteTime": {
     "end_time": "2025-01-30T02:38:28.107043Z",
     "start_time": "2025-01-30T02:38:12.065931Z"
    }
   },
   "outputs": [
    {
     "name": "stdout",
     "output_type": "stream",
     "text": [
      "Best Hyperparameters: {'classifier__kernel': 'rbf', 'classifier__gamma': 0.1, 'classifier__C': 7}\n",
      "Best Score: 0.9961178451178452\n",
      "CPU times: user 669 ms, sys: 181 ms, total: 850 ms\n",
      "Wall time: 13.2 s\n"
     ]
    }
   ],
   "execution_count": 151
  },
  {
   "cell_type": "code",
   "source": [
    "# Build an SVM model with the tuned hyperparameters\n",
    "\n",
    "# Specify the column names for numeric and categorical columns\n",
    "numeric_cols = ['Level', 'Health', 'Energy', 'Sanity']\n",
    "categorical_cols = ['Type']\n",
    "\n",
    "# Create the transformers for preprocessing\n",
    "numeric_transformer = StandardScaler()\n",
    "categorical_transformer = OneHotEncoder()\n",
    "\n",
    "# Create the preprocessor using ColumnTransformer\n",
    "preprocessor = ColumnTransformer(\n",
    "    transformers=[\n",
    "        ('numeric', numeric_transformer, numeric_cols),\n",
    "        ('categorical', categorical_transformer, categorical_cols)\n",
    "    ],\n",
    "    remainder='drop'  # Exclude remaining columns from the pipeline\n",
    ")\n",
    "\n",
    "# Create the pipeline with preprocessing, oversampling, undersampling, and model\n",
    "tuned_svm_model = Pipeline([\n",
    "    ('preprocessor', preprocessor),\n",
    "    ('oversampling', SMOTE(sampling_strategy='auto', random_state=42)),\n",
    "    ('undersampling', RandomUnderSampler(random_state=42)),\n",
    "    ('classifier', SVC(random_state=42,\n",
    "                       probability=True,\n",
    "                       decision_function_shape='ovo',\n",
    "                       C=7,\n",
    "                       kernel='rbf',\n",
    "                       gamma=0.1))\n",
    "])\n",
    "\n",
    "# Fit the model\n",
    "tuned_svm_model.fit(X_train, y_train)\n",
    "\n",
    "# Evaluate the model using cross-validation\n",
    "cv = StratifiedKFold(n_splits=5, shuffle=True, random_state=42)\n",
    "tuned_svm_scores = cross_val_score(tuned_svm_model, X_train, y_train, cv=cv, scoring='roc_auc_ovo')\n",
    "print('Cross-Validation Scores:', tuned_svm_scores)\n",
    "print('ROC AUC OvO Tuned SVM:', tuned_svm_scores.mean())"
   ],
   "metadata": {
    "colab": {
     "base_uri": "https://localhost:8080/"
    },
    "id": "cvcGTt77AoNi",
    "outputId": "f381e6a0-3ff8-4462-f0d3-2af50a72cb97",
    "ExecuteTime": {
     "end_time": "2025-01-30T02:38:27.090156Z",
     "start_time": "2025-01-30T02:38:25.787653Z"
    }
   },
   "outputs": [
    {
     "name": "stdout",
     "output_type": "stream",
     "text": [
      "Cross-Validation Scores: [0.99837025 0.99719393 0.99299566 0.99539039 0.99744919]\n",
      "ROC AUC OvO Tuned SVM: 0.9962798842437856\n"
     ]
    }
   ],
   "execution_count": 152
  },
  {
   "cell_type": "code",
   "source": [
    "# Balanced SVM Classification Report\n",
    "# Perform cross-validation and obtain predicted labels\n",
    "tuned_svm_y_pred = cross_val_predict(tuned_svm_model, X_train, y_train, cv=cv)\n",
    "print('Tuned SVM Classification Report: ')\n",
    "print(classification_report(y_train, tuned_svm_y_pred, zero_division=0))"
   ],
   "metadata": {
    "colab": {
     "base_uri": "https://localhost:8080/"
    },
    "id": "T7MzwbSJAo00",
    "outputId": "c8d42b2f-abce-4370-9d18-1e6460ce9f22",
    "ExecuteTime": {
     "end_time": "2025-01-30T02:38:27.889615Z",
     "start_time": "2025-01-30T02:38:27.270368Z"
    }
   },
   "outputs": [
    {
     "name": "stdout",
     "output_type": "stream",
     "text": [
      "Tuned SVM Classification Report: \n",
      "              precision    recall  f1-score   support\n",
      "\n",
      "      Rank 0       0.97      1.00      0.99       248\n",
      "      Rank 1       0.95      0.98      0.96       206\n",
      "      Rank 2       0.95      0.94      0.94       156\n",
      "      Rank 3       0.97      0.89      0.92        97\n",
      "      Rank 4       0.94      0.92      0.93        73\n",
      "      Rank 5       0.85      0.85      0.85        20\n",
      "\n",
      "    accuracy                           0.96       800\n",
      "   macro avg       0.94      0.93      0.93       800\n",
      "weighted avg       0.96      0.96      0.96       800\n",
      "\n"
     ]
    }
   ],
   "execution_count": 153
  },
  {
   "cell_type": "code",
   "source": [
    "# Measure the improvement of the SVM model after tuning the hyperparameters\n",
    "print('Improvement of {:0.2f}%.'.format( 100 * (tuned_svm_scores.mean() - bal_svm_scores.mean()) /bal_svm_scores.mean()))"
   ],
   "metadata": {
    "colab": {
     "base_uri": "https://localhost:8080/"
    },
    "id": "z5TEi8-iIARp",
    "outputId": "cb1adf2e-7e88-4b29-bf66-589522ae7f68",
    "ExecuteTime": {
     "end_time": "2025-01-30T02:38:27.898377Z",
     "start_time": "2025-01-30T02:38:27.896045Z"
    }
   },
   "outputs": [
    {
     "name": "stdout",
     "output_type": "stream",
     "text": [
      "Improvement of 0.00%.\n"
     ]
    }
   ],
   "execution_count": 154
  },
  {
   "cell_type": "markdown",
   "source": [
    "In terms of overall performance, the Tuned SVM model stands out with the highest ROC AUC OvO score and accuracy. It demonstrates superior precision, recall, and F1-score values compared to the other two models."
   ],
   "metadata": {
    "id": "MX_RD3lZ5Js0"
   }
  },
  {
   "cell_type": "markdown",
   "source": [
    "## VI. Final Evaluation\n",
    "\n",
    "Use the best performer model based on the evaluation metrics to further assess its performance by using the test set to verify its effectiveness and reliability in real-world scenarios."
   ],
   "metadata": {
    "id": "uMgGlzzFaOt2"
   }
  },
  {
   "metadata": {
    "ExecuteTime": {
     "end_time": "2025-01-30T02:38:28.068855Z",
     "start_time": "2025-01-30T02:38:27.987235Z"
    }
   },
   "cell_type": "code",
   "source": [
    "# Evaluate and select the best performing model based on mean ROC AUC OvO score\n",
    "models = {\n",
    "    \"Tuned Random Forest\": tuned_rf_scores.mean(),\n",
    "    \"Tuned Logistic Regression\": tuned_logreg_scores.mean(),\n",
    "    \"Tuned SVM\": tuned_svm_scores.mean()\n",
    "}\n",
    "\n",
    "best_model_name = max(models, key=models.get)\n",
    "best_model_score = models[best_model_name]\n",
    "\n",
    "print(f\"Best Performing Model: {best_model_name}\")\n",
    "print(f\"Mean ROC AUC OvO Score: {best_model_score:.3f}\")"
   ],
   "outputs": [
    {
     "ename": "NameError",
     "evalue": "name 'tuned_logreg_scores' is not defined",
     "output_type": "error",
     "traceback": [
      "\u001B[0;31m---------------------------------------------------------------------------\u001B[0m",
      "\u001B[0;31mNameError\u001B[0m                                 Traceback (most recent call last)",
      "Cell \u001B[0;32mIn[155], line 4\u001B[0m\n\u001B[1;32m      1\u001B[0m \u001B[38;5;66;03m# Evaluate and select the best performing model based on mean ROC AUC OvO score\u001B[39;00m\n\u001B[1;32m      2\u001B[0m models \u001B[38;5;241m=\u001B[39m {\n\u001B[1;32m      3\u001B[0m     \u001B[38;5;124m\"\u001B[39m\u001B[38;5;124mTuned Random Forest\u001B[39m\u001B[38;5;124m\"\u001B[39m: tuned_rf_scores\u001B[38;5;241m.\u001B[39mmean(),\n\u001B[0;32m----> 4\u001B[0m     \u001B[38;5;124m\"\u001B[39m\u001B[38;5;124mTuned Logistic Regression\u001B[39m\u001B[38;5;124m\"\u001B[39m: \u001B[43mtuned_logreg_scores\u001B[49m\u001B[38;5;241m.\u001B[39mmean(),\n\u001B[1;32m      5\u001B[0m     \u001B[38;5;124m\"\u001B[39m\u001B[38;5;124mTuned SVM\u001B[39m\u001B[38;5;124m\"\u001B[39m: tuned_svm_scores\u001B[38;5;241m.\u001B[39mmean()\n\u001B[1;32m      6\u001B[0m }\n\u001B[1;32m      8\u001B[0m best_model_name \u001B[38;5;241m=\u001B[39m \u001B[38;5;28mmax\u001B[39m(models, key\u001B[38;5;241m=\u001B[39mmodels\u001B[38;5;241m.\u001B[39mget)\n\u001B[1;32m      9\u001B[0m best_model_score \u001B[38;5;241m=\u001B[39m models[best_model_name]\n",
      "\u001B[0;31mNameError\u001B[0m: name 'tuned_logreg_scores' is not defined"
     ]
    }
   ],
   "execution_count": 155
  },
  {
   "metadata": {
    "ExecuteTime": {
     "end_time": "2025-01-30T02:38:28.074206Z",
     "start_time": "2025-01-30T02:03:02.071195Z"
    }
   },
   "cell_type": "code",
   "source": [
    "# Evaluate the SVM model's overall performance on the test set\n",
    "\n",
    "test_score = tuned_svm_model.score(X_test, y_test)\n",
    "\n",
    "print(f\"SVM Test Accuracy: {test_score:.2f}\")"
   ],
   "outputs": [
    {
     "name": "stdout",
     "output_type": "stream",
     "text": [
      "SVM Test Accuracy: 0.97\n"
     ]
    }
   ],
   "execution_count": 382
  },
  {
   "cell_type": "code",
   "source": [
    "# Evaluate the SVM model's overall performance on the test set\n",
    "test_score = tuned_svm_model.score(X_test, y_test)\n",
    "print('Test Accuracy:', test_score)\n"
   ],
   "metadata": {
    "colab": {
     "base_uri": "https://localhost:8080/"
    },
    "id": "rpnlcwIaJGND",
    "outputId": "9b45e0f8-96d6-43b9-96a6-07eb3a8393b8",
    "ExecuteTime": {
     "end_time": "2025-01-30T02:38:28.087119Z",
     "start_time": "2025-01-30T02:03:02.239190Z"
    }
   },
   "outputs": [
    {
     "name": "stdout",
     "output_type": "stream",
     "text": [
      "Test Accuracy: 0.97\n"
     ]
    }
   ],
   "execution_count": 383
  },
  {
   "cell_type": "code",
   "source": [
    "# Evaluate the SVM model's roc_auc_ovo score on the test set\n",
    "roc_auc_ovo_score_tuned_svm = roc_auc_score(y_test, tuned_svm_model.predict_proba(X_test), multi_class='ovo')\n",
    "print('ROC AUC OVO Test score', roc_auc_ovo_score_tuned_svm)"
   ],
   "metadata": {
    "colab": {
     "base_uri": "https://localhost:8080/"
    },
    "id": "kurFbhvG9RnJ",
    "outputId": "7b7e48be-74d5-4679-b453-cc4281ab1c9f",
    "ExecuteTime": {
     "end_time": "2025-01-30T02:38:28.087496Z",
     "start_time": "2025-01-30T02:03:02.396748Z"
    }
   },
   "outputs": [
    {
     "name": "stdout",
     "output_type": "stream",
     "text": [
      "ROC AUC OVO Test score 0.9990817901234569\n"
     ]
    }
   ],
   "execution_count": 384
  },
  {
   "cell_type": "code",
   "source": [
    "# Test Classification Report\n",
    "y_test_pred = tuned_svm_model.predict(X_test)\n",
    "\n",
    "print('Test Classification Report SVM: ')\n",
    "print(classification_report(y_test, y_test_pred));"
   ],
   "metadata": {
    "colab": {
     "base_uri": "https://localhost:8080/"
    },
    "id": "7jHz37hwbCfW",
    "outputId": "ada822a1-3529-4bb7-a8c6-cc10a55b8aa8",
    "ExecuteTime": {
     "end_time": "2025-01-30T02:38:28.090057Z",
     "start_time": "2025-01-30T02:03:02.420716Z"
    }
   },
   "outputs": [
    {
     "name": "stdout",
     "output_type": "stream",
     "text": [
      "Test Classification Report SVM: \n",
      "              precision    recall  f1-score   support\n",
      "\n",
      "      Rank 0       0.96      1.00      0.98        67\n",
      "      Rank 1       1.00      0.94      0.97        47\n",
      "      Rank 2       0.94      1.00      0.97        30\n",
      "      Rank 3       1.00      0.94      0.97        32\n",
      "      Rank 4       1.00      0.94      0.97        18\n",
      "      Rank 5       0.86      1.00      0.92         6\n",
      "\n",
      "    accuracy                           0.97       200\n",
      "   macro avg       0.96      0.97      0.96       200\n",
      "weighted avg       0.97      0.97      0.97       200\n",
      "\n"
     ]
    }
   ],
   "execution_count": 385
  },
  {
   "cell_type": "markdown",
   "source": [
    "## VII. Feature Importance\n",
    "\n",
    "Plot feature importances for the selected model to gain insights into the significance of different attributes in predicting monster rarity.\n",
    "\n"
   ],
   "metadata": {
    "id": "OiKoso48OznS"
   }
  },
  {
   "cell_type": "code",
   "source": [
    "# Calculate permutation importances\n",
    "result = permutation_importance(tuned_svm_model, X_test, y_test, n_repeats=10, random_state=42)\n",
    "\n",
    "# Get the feature importances\n",
    "importances = result.importances_mean\n",
    "feature_names = X_test.columns\n",
    "\n",
    "# Create a DataFrame with feature names and importances\n",
    "feature_importances = pd.DataFrame({'Feature': feature_names, 'Importance': importances})\n",
    "feature_importances.sort_values('Importance', ascending=True, inplace=True)\n",
    "\n",
    "# Plot the feature importances\n",
    "plt.figure(figsize=(10, 6))\n",
    "plt.barh(feature_importances['Feature'][:10], feature_importances['Importance'][:10])\n",
    "plt.xlabel('Importance')\n",
    "plt.ylabel('Feature')\n",
    "plt.title('Permutation Feature Importances')\n",
    "plt.show()\n"
   ],
   "metadata": {
    "colab": {
     "base_uri": "https://localhost:8080/",
     "height": 564
    },
    "id": "OA5FCl4A8Wy3",
    "outputId": "ddcdf264-c769-493c-a908-c53123c94fda",
    "ExecuteTime": {
     "end_time": "2025-01-30T02:38:28.090239Z",
     "start_time": "2025-01-30T02:03:02.579437Z"
    }
   },
   "outputs": [
    {
     "data": {
      "text/plain": [
       "<Figure size 1000x600 with 1 Axes>"
      ],
      "image/png": "[encoded data removed]"
     },
     "metadata": {},
     "output_type": "display_data"
    }
   ],
   "execution_count": 386
  },
  {
   "metadata": {},
   "cell_type": "markdown",
   "source": [
    "## Methodology\n",
    "\n",
    "The methodology employed in this ticket focused on systematically classifying monster rarity based on attributes such as level, health, energy, and sanity. The key steps included data collection, preprocessing, exploratory analysis (EDA), model selection, hyperparameter tuning, and evaluation. Below is a concise breakdown:\n",
    "- **Data Collection**:\n",
    "    - The dataset was fetched from a MongoDB database. A custom `wrangle()` function was utilized to connect to the database, retrieve the relevant collection, and convert it into a pandas DataFrame.\n",
    "\n",
    "- **Data Preprocessing**:\n",
    "    - Irrelevant features like `_id` were removed, and columns with high cardinality (more than 100 unique values) were excluded to reduce feature complexity.\n",
    "    - The `Timestamp` column, despite containing constant values, was retained for compatibility and usability in the `/model` application.\n",
    "\n",
    "- **Exploratory Data Analysis (EDA)**:\n",
    "    - Summary statistics confirmed no missing values in the dataset, ensuring completeness.\n",
    "    - A class imbalance in the target variable (`Rarity`) was identified, with the majority class (`Rank 0`) representing 30% of entries, leading to baseline accuracy being calculated as 30%.\n",
    "\n",
    "- **Model Selection and Training**:\n",
    "    - Three classifiers were evaluated: Random Forest, Logistic Regression, and Support Vector Machines (SVM).\n",
    "    - To address class imbalance, sampling techniques such as **SMOTE (Synthetic Minority Over-sampling Technique)** and random undersampling were applied, significantly improving minority class predictions.\n",
    "\n",
    "- **Cross-Validation and Metric Selection**:\n",
    "    - The models were evaluated using `roc_auc_ovo`, a metric tailored for multi-class classification tasks, ensuring fair assessment of results.\n",
    "\n",
    "- **Hyperparameter Tuning**:\n",
    "    - Fine-tuning for all models was performed using a randomized search approach to optimize the `roc_auc_ovo` score. Metrics such as accuracy, precision, recall, F1-score, macro-average F1, and weighted-average F1 scores were analyzed post-tuning to comprehensively evaluate model performance.\n",
    "\n",
    "- **Top Model Selection**:\n",
    "    - The **Support Vector Machines (SVM)** model outperformed others, achieving high predictive power. Features such as level, energy, health, and sanity were identified as the most influential predictors of monster rarity.\n",
    "\n",
    "### Summary\n",
    "This ticket successfully implemented a robust, real-world-ready machine learning pipeline that tackled class imbalance and delivered precise rarity rank predictions."
   ]
  },
  {
   "metadata": {},
   "cell_type": "markdown",
   "source": [
    "### Results\n",
    "\n",
    "Based on the ticket results, the predictive model that was developed showed impressive performance and effectiveness. To provide a clear understanding, the key findings and metrics were analyzed for each tuned model, and they are as follows:\n",
    "\n",
    "\n",
    "|     Metrics       |  Tuned RF    |  Tuned SVM   | Tuned LF |\n",
    "|-------------------|--------------|--------------|----------|\n",
    "| ROC AUC OvO       |   0.972      |   0.996      | 0.991    |\n",
    "| Accuracy          |   0.97       |   0.97       | 0.97     |\n",
    "| Macro Avg F1      |   0.87       |   0.94       | 0.89     |\n",
    "| Weighted Avg F1   |   0.95       |   0.97       | 0.97     |\n",
    "| Precision (Rank 0)|   1.00       |   0.98       | 0.97     |\n",
    "| Precision (Rank 1)|   0.98       |   0.97       | 0.96     |\n",
    "| Precision (Rank 2)|   0.97       |   0.96       | 0.97     |\n",
    "| Precision (Rank 3)|   0.94       |   0.99       | 0.95     |\n",
    "| Precision (Rank 4)|   0.78       |   0.88       | 0.92     |\n",
    "| Precision (Rank 5)|   0.56       |   0.92       | 0.89     |\n",
    "| Recall (Rank 0)   |   1.00       |    1.00      | 0.99     |\n",
    "| Recall (Rank 1)   |   0.99       |   0.98       | 0.97     |\n",
    "| Recall (Rank 2)   |   0.97       |   0.97       | 0.94     |\n",
    "| Recall (Rank 3)   |   0.92       |   0.89       | 0.96     |\n",
    "| Recall (Rank 4)   |   0.81       |   0.94       | 0.91     |\n",
    "| Recall (Rank 5)   |   0.50       |   0.86       | 0.89     |\n",
    "| F1-score (Rank 0) |   1.00       |   0.99       | 0.98     |\n",
    "| F1-score (Rank 1) |   0.99       |   0.98       | 0.97     |\n",
    "| F1-score (Rank 2) |   0.97       |   0.96       | 0.96     |\n",
    "| F1-score (Rank 3) |   0.93       |   0.94       | 0.95     |\n",
    "| F1-score (Rank 4) |   0.80       |   0.91       | 0.92     |\n",
    "| F1-score (Rank 5) |   0.53       |   0.89       | 0.89     |\n",
    "\n",
    "### Metrics Recap and Deployment\n",
    "The Support Vector Machine (SVM) model emerged as the top-performing model, achieving a 97% accuracy rate and excelling in precision, recall, and F1-scores for most classes. With the highest ROC AUC score of 0.996, it demonstrated exceptional performance in distinguishing between monster rarity ranks consistently.\n",
    "### Model Deployment Plan\n",
    "The trained model will power a user-friendly application for predicting monster rarity. Users will input monster attributes such as level, health, energy, and sanity to receive predictions, including a confidence percentage. The application will also address missing data by generating random values to ensure predictions remain accessible.\n",
    "### Conclusion\n",
    "This project successfully developed an effective predictive model for monster rarity classification using various machine learning techniques and by tackling imbalanced data challenges. The SVM model stood out with precise and reliable predictions, making it a practical solution for deployment in a real-world scenario, enabling users to make data-driven decisions effortlessly."
   ]
  }
 ]
}
